{
  "nbformat": 4,
  "nbformat_minor": 0,
  "metadata": {
    "colab": {
      "name": "Classes_heranca_construtor.ipynb",
      "provenance": [],
      "authorship_tag": "ABX9TyNOW8E+ZQi9LpskKbYwpnRV",
      "include_colab_link": true
    },
    "kernelspec": {
      "name": "python3",
      "display_name": "Python 3"
    }
  },
  "cells": [
    {
      "cell_type": "markdown",
      "metadata": {
        "id": "view-in-github",
        "colab_type": "text"
      },
      "source": [
        "<a href=\"https://colab.research.google.com/github/EddyGiusepe/Python_Classes_Objetos_Metodos_Heranca_Construtor/blob/main/Classes_heranca_construtor.ipynb\" target=\"_parent\"><img src=\"https://colab.research.google.com/assets/colab-badge.svg\" alt=\"Open In Colab\"/></a>"
      ]
    },
    {
      "cell_type": "markdown",
      "metadata": {
        "id": "hXddZJPlz6sX"
      },
      "source": [
        "# **Aula de Python sobre Classes, Objetos, Métodos, Herança, Construtor**\r\n",
        "\r\n",
        "\r\n",
        "## Class em Ptyhon:\r\n",
        "\r\n",
        "Classes são o coração da programação orientada a objetos que tem como princípio criar modelos que representem objetos do mundo real.\r\n",
        "\r\n",
        "As classes são justamente esses modelos elas possuem **atributos** e **métodos** que buscam melhorar a representação dos objetos e situações do mundo real. \r\n",
        "\r\n",
        "**Descripção:**\r\n",
        "\r\n",
        "* Para definir o nome da classe usamos a palvra reservada ``class``. Após o nome da classe devemos adicionar dois pontos **\" : \"** .\r\n",
        "\r\n",
        "*  Seguidamente: para criar um **método** usamos a palavra reservada ``def``. \r\n",
        "\r\n",
        "* O construtor é um método reservado chamado ``__init__``.\r\n",
        "\r\n",
        "* O parâmetro ``self`` é obrigatório e os demais parâmetros são definidos por nós.\r\n",
        "\r\n",
        "* O corpo do método (``__init__``), sempre tem que estar identado como manda a sintaxe da linguagem. \r\n",
        "\r\n",
        "A partir daí podemos definir quantos métodos precisarmos."
      ]
    },
    {
      "cell_type": "code",
      "metadata": {
        "id": "8LjlpsqHzj53"
      },
      "source": [
        "class Pessoa:\r\n",
        "    \r\n",
        "    def __init__(self, nome, idade):\r\n",
        "        self.nome = nome\r\n",
        "        self.idade = idade\r\n",
        "        \r\n",
        "        \r\n",
        "    def setNome(self, nome):\r\n",
        "        self.nome = nome\r\n",
        "        \r\n",
        "    def setIdade(self, idade):\r\n",
        "        self.idade = idade \r\n",
        "        \r\n",
        "    def getNome(self):\r\n",
        "        return self.nome\r\n",
        "    \r\n",
        "    \r\n",
        "    def getIdade(self):\r\n",
        "        return self.idade      "
      ],
      "execution_count": 2,
      "outputs": []
    },
    {
      "cell_type": "markdown",
      "metadata": {
        "id": "8lz3O7pS5TxC"
      },
      "source": [
        "A criação de classes é bem simples e nos permite definir quais atributos e métodos uma classe irá possuir.\r\n",
        "\r\n",
        "Acima podemos visualizar a representação de uma classe com nome ``Pessoa`` e quais atributos esta possui: nome (``string``) e idade (``int``). \r\n",
        "\r\n",
        "Temos o parâmetro obrigatório ``self``, que está presente em todos os métodos.\r\n",
        "\r\n",
        "Sempre o corpo do método deve estar identado, como manda a sintaxe da linguagem. Acima estamos apenas atribuindo os valores recebidos por parâmetros aos atributos da classe.\r\n",
        "\r\n",
        "\r\n",
        "Acima também criamos os **métodos** ``get`` e ``set`` de todos os atributos da **classe Pessoa** que serão responsáveis, respectivamente, por retornar ou modificar os atributos desta classe.\r\n"
      ]
    },
    {
      "cell_type": "markdown",
      "metadata": {
        "id": "gkPK4AMb8eiq"
      },
      "source": [
        "## Herança em Python:\r\n",
        "\r\n",
        "* Tamabém podemos implementar herança entre classes no Python: ``PessoaFisica`` e ``PessoaJuridica``\r\n",
        "\r\n",
        "* Se estivessemos por exemplo programando no **Visual Studio Code** podemos fazer o seguinte:\r\n",
        "``from pessoa import Pessoa``. Devemos ter todos nossos arquivos dentro de uma pasta. Então:\r\n",
        "  * ``pessoa`` $\\Longrightarrow$ Nome do arquivo em que a classe pai foi criada (sem a extensão **.py**).\r\n",
        "\r\n",
        "  * ``Pessoa`` $\\Longrightarrow$ Nome da classe Pai.\r\n",
        "\r\n",
        "*   Embaixo temos:\r\n",
        "\r\n",
        "  * ``PessoaFisica`` $\\Longrightarrow$ Nome da classe filha. \r\n",
        "\r\n",
        "* Podemos criar um novo construtor ``__init_``.\r\n",
        "\r\n",
        "* ``super().__init__(nome, idade)``: logo podemos invocar o construtor da classe pai, aproveitando seu funcionamento padrão. \r\n",
        "\r\n",
        "\r\n",
        "* ``self.CPF = CPF``: A classe filha pode ter seus próprios atributos ... e também seus próprios métodos ``def setCPF(self, cpf)\r\n",
        "self.CPF = cpf``."
      ]
    },
    {
      "cell_type": "code",
      "metadata": {
        "id": "O2W--l721yDk"
      },
      "source": [
        "# from pessoa import Pessoa  (nosso caso não precisamos)\r\n",
        "\r\n",
        "class PessoaFisica(Pessoa):\r\n",
        "    def __init__(self, CPF, nome, idade):\r\n",
        "        super().__init__(nome, idade)\r\n",
        "        self.CPF = CPF \r\n",
        "        \r\n",
        "        \r\n",
        "    def getCPF(self):\r\n",
        "        return self.CPF\r\n",
        "    \r\n",
        "    def setCPF(self, CPF):\r\n",
        "        self.CPF = CPF     "
      ],
      "execution_count": 3,
      "outputs": []
    },
    {
      "cell_type": "markdown",
      "metadata": {
        "id": "5Q1lfuqJCvf1"
      },
      "source": [
        "Na Programação Orientada a Objetos o conceito de **herança** é muito utilizado. Basicamente, dizemos que a herança ocorre quando uma classe (filha) herda características e métodos de uma outra classe (pai), mas não impede de que a classe filha possua seus próprios métodos e atributos."
      ]
    },
    {
      "cell_type": "code",
      "metadata": {
        "id": "N1O4rATG16Ta"
      },
      "source": [
        "class PessoaJuridica(Pessoa):\r\n",
        "    def __init__(self, CNPJ, nome, idade):\r\n",
        "        super().__init__(nome, idade)\r\n",
        "        self.CNPJ = CNPJ \r\n",
        "        \r\n",
        "        \r\n",
        "    def getCNPJ(self):\r\n",
        "        return self.CNPJ\r\n",
        "    \r\n",
        "    def setCNPJ(self, CNPJ):\r\n",
        "        self.CNPJ = CNPJ     "
      ],
      "execution_count": 4,
      "outputs": []
    },
    {
      "cell_type": "code",
      "metadata": {
        "colab": {
          "base_uri": "https://localhost:8080/"
        },
        "id": "HVCZ1YK416-w",
        "outputId": "5d807969-9335-4c0c-eaf2-e3b9b522beee"
      },
      "source": [
        "a = PessoaFisica('111.222.333-44', nome='Alfredo', idade=22)\r\n",
        "\r\n",
        "print(a.getCPF())\r\n",
        "print(a.getNome())\r\n",
        "print(a.getIdade())"
      ],
      "execution_count": 5,
      "outputs": [
        {
          "output_type": "stream",
          "text": [
            "111.222.333-44\n",
            "Alfredo\n",
            "22\n"
          ],
          "name": "stdout"
        }
      ]
    },
    {
      "cell_type": "code",
      "metadata": {
        "colab": {
          "base_uri": "https://localhost:8080/"
        },
        "id": "7paWwAUA2B6D",
        "outputId": "06957fcd-9bbf-4938-fede-38026f531a11"
      },
      "source": [
        "b = PessoaJuridica('64.614.527/0001-99', nome='Empresa X', idade=22)\r\n",
        "\r\n",
        "print(b.getCNPJ())\r\n",
        "print(b.getNome())\r\n",
        "print(b.getIdade())"
      ],
      "execution_count": 6,
      "outputs": [
        {
          "output_type": "stream",
          "text": [
            "64.614.527/0001-99\n",
            "Empresa X\n",
            "22\n"
          ],
          "name": "stdout"
        }
      ]
    }
  ]
}